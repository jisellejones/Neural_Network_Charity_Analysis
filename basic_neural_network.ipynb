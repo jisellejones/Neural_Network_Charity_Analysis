{
 "cells": [
  {
   "cell_type": "code",
   "execution_count": 1,
   "id": "ef6937bc",
   "metadata": {},
   "outputs": [],
   "source": [
    "# Import our dependencies\n",
    "import pandas as pd\n",
    "import matplotlib as plt\n",
    "from sklearn.datasets import make_blobs\n",
    "import sklearn as skl\n",
    "import tensorflow as tf"
   ]
  },
  {
   "cell_type": "code",
   "execution_count": 2,
   "id": "b8427fc2",
   "metadata": {},
   "outputs": [
    {
     "data": {
      "text/plain": [
       "<AxesSubplot:xlabel='Feature 1', ylabel='Feature 2'>"
      ]
     },
     "execution_count": 2,
     "metadata": {},
     "output_type": "execute_result"
    },
    {
     "data": {
      "image/png": "[encoded data removed]",
      "text/plain": [
       "<Figure size 432x288 with 2 Axes>"
      ]
     },
     "metadata": {
      "needs_background": "light"
     },
     "output_type": "display_data"
    }
   ],
   "source": [
    "# Generate dummy dataset\n",
    "X, y = make_blobs(n_samples=1000, centers=2, n_features=2, random_state=78)\n",
    "\n",
    "# Creating a DataFrame with the dummy data\n",
    "df = pd.DataFrame(X, columns=[\"Feature 1\", \"Feature 2\"])\n",
    "df[\"Target\"] = y\n",
    "\n",
    "# Plotting the dummy data\n",
    "df.plot.scatter(x=\"Feature 1\", y=\"Feature 2\", c=\"Target\", colormap=\"winter\")"
   ]
  },
  {
   "cell_type": "code",
   "execution_count": 3,
   "id": "865e6a22",
   "metadata": {},
   "outputs": [],
   "source": [
    "# Use sklearn to split dataset\n",
    "from sklearn.model_selection import train_test_split\n",
    "X_train, X_test, y_train, y_test = train_test_split(X, y, random_state=78)"
   ]
  },
  {
   "cell_type": "code",
   "execution_count": 4,
   "id": "5582ec52",
   "metadata": {},
   "outputs": [],
   "source": [
    "# Create scaler instance\n",
    "X_scaler = skl.preprocessing.StandardScaler()\n",
    "\n",
    "# Fit the scaler\n",
    "X_scaler.fit(X_train)\n",
    "\n",
    "# Scale the data\n",
    "X_train_scaled = X_scaler.transform(X_train)\n",
    "X_test_scaled = X_scaler.transform(X_test)"
   ]
  },
  {
   "cell_type": "code",
   "execution_count": 5,
   "id": "ced50eca",
   "metadata": {},
   "outputs": [],
   "source": [
    "# Create the Keras Sequential model\n",
    "nn_model = tf.keras.models.Sequential()"
   ]
  },
  {
   "cell_type": "code",
   "execution_count": 6,
   "id": "cba2e9a9",
   "metadata": {},
   "outputs": [],
   "source": [
    "# Add our first Dense layer, including the input layer\n",
    "nn_model.add(tf.keras.layers.Dense(units=1, activation=\"relu\", input_dim=2))"
   ]
  },
  {
   "cell_type": "code",
   "execution_count": 7,
   "id": "abe20044",
   "metadata": {},
   "outputs": [],
   "source": [
    "# Add the output layer that uses a probability activation function\n",
    "nn_model.add(tf.keras.layers.Dense(units=1, activation=\"sigmoid\"))"
   ]
  },
  {
   "cell_type": "code",
   "execution_count": 8,
   "id": "db0cd2ce",
   "metadata": {},
   "outputs": [
    {
     "name": "stdout",
     "output_type": "stream",
     "text": [
      "Model: \"sequential\"\n",
      "_________________________________________________________________\n",
      "Layer (type)                 Output Shape              Param #   \n",
      "=================================================================\n",
      "dense (Dense)                (None, 1)                 3         \n",
      "_________________________________________________________________\n",
      "dense_1 (Dense)              (None, 1)                 2         \n",
      "=================================================================\n",
      "Total params: 5\n",
      "Trainable params: 5\n",
      "Non-trainable params: 0\n",
      "_________________________________________________________________\n"
     ]
    }
   ],
   "source": [
    "# Check the structure of the Sequential model\n",
    "nn_model.summary()"
   ]
  },
  {
   "cell_type": "code",
   "execution_count": 9,
   "id": "39d15fe8",
   "metadata": {},
   "outputs": [],
   "source": [
    "# Compile the Sequential model together and customize metrics\n",
    "nn_model.compile(loss=\"binary_crossentropy\", optimizer=\"adam\", metrics=[\"accuracy\"])"
   ]
  },
  {
   "cell_type": "code",
   "execution_count": 10,
   "id": "233fa2d7",
   "metadata": {},
   "outputs": [
    {
     "name": "stdout",
     "output_type": "stream",
     "text": [
      "Epoch 1/100\n",
      "24/24 [==============================] - 1s 4ms/step - loss: 1.0553 - accuracy: 0.1787\n",
      "Epoch 2/100\n",
      "24/24 [==============================] - 0s 4ms/step - loss: 1.0212 - accuracy: 0.1453\n",
      "Epoch 3/100\n",
      "24/24 [==============================] - 0s 4ms/step - loss: 0.9894 - accuracy: 0.1507\n",
      "Epoch 4/100\n",
      "24/24 [==============================] - 0s 4ms/step - loss: 0.9602 - accuracy: 0.1587\n",
      "Epoch 5/100\n",
      "24/24 [==============================] - 0s 4ms/step - loss: 0.9344 - accuracy: 0.1693\n",
      "Epoch 6/100\n",
      "24/24 [==============================] - 0s 4ms/step - loss: 0.9105 - accuracy: 0.1760\n",
      "Epoch 7/100\n",
      "24/24 [==============================] - 0s 4ms/step - loss: 0.8892 - accuracy: 0.1933\n",
      "Epoch 8/100\n",
      "24/24 [==============================] - 0s 3ms/step - loss: 0.8699 - accuracy: 0.2027\n",
      "Epoch 9/100\n",
      "24/24 [==============================] - 0s 3ms/step - loss: 0.8524 - accuracy: 0.2160\n",
      "Epoch 10/100\n",
      "24/24 [==============================] - 0s 3ms/step - loss: 0.8374 - accuracy: 0.2267\n",
      "Epoch 11/100\n",
      "24/24 [==============================] - 0s 9ms/step - loss: 0.8227 - accuracy: 0.2373\n",
      "Epoch 12/100\n",
      "24/24 [==============================] - 0s 2ms/step - loss: 0.8100 - accuracy: 0.2467\n",
      "Epoch 13/100\n",
      "24/24 [==============================] - 0s 3ms/step - loss: 0.7983 - accuracy: 0.2533\n",
      "Epoch 14/100\n",
      "24/24 [==============================] - 0s 3ms/step - loss: 0.7877 - accuracy: 0.2640\n",
      "Epoch 15/100\n",
      "24/24 [==============================] - 0s 4ms/step - loss: 0.7780 - accuracy: 0.2760\n",
      "Epoch 16/100\n",
      "24/24 [==============================] - 0s 2ms/step - loss: 0.7692 - accuracy: 0.2867\n",
      "Epoch 17/100\n",
      "24/24 [==============================] - 0s 2ms/step - loss: 0.7611 - accuracy: 0.3000\n",
      "Epoch 18/100\n",
      "24/24 [==============================] - 0s 4ms/step - loss: 0.7538 - accuracy: 0.3120\n",
      "Epoch 19/100\n",
      "24/24 [==============================] - 0s 2ms/step - loss: 0.7471 - accuracy: 0.3173\n",
      "Epoch 20/100\n",
      "24/24 [==============================] - 0s 3ms/step - loss: 0.7411 - accuracy: 0.3427\n",
      "Epoch 21/100\n",
      "24/24 [==============================] - 0s 2ms/step - loss: 0.7356 - accuracy: 0.3587\n",
      "Epoch 22/100\n",
      "24/24 [==============================] - 0s 3ms/step - loss: 0.7306 - accuracy: 0.3733\n",
      "Epoch 23/100\n",
      "24/24 [==============================] - 0s 2ms/step - loss: 0.7261 - accuracy: 0.3813\n",
      "Epoch 24/100\n",
      "24/24 [==============================] - 0s 3ms/step - loss: 0.7221 - accuracy: 0.3987\n",
      "Epoch 25/100\n",
      "24/24 [==============================] - 0s 3ms/step - loss: 0.7186 - accuracy: 0.4107\n",
      "Epoch 26/100\n",
      "24/24 [==============================] - 0s 3ms/step - loss: 0.7154 - accuracy: 0.4147\n",
      "Epoch 27/100\n",
      "24/24 [==============================] - 0s 4ms/step - loss: 0.7126 - accuracy: 0.4213\n",
      "Epoch 28/100\n",
      "24/24 [==============================] - 0s 3ms/step - loss: 0.7102 - accuracy: 0.4280\n",
      "Epoch 29/100\n",
      "24/24 [==============================] - ETA: 0s - loss: 0.7042 - accuracy: 0.46 - 0s 4ms/step - loss: 0.7079 - accuracy: 0.4347\n",
      "Epoch 30/100\n",
      "24/24 [==============================] - 0s 4ms/step - loss: 0.7059 - accuracy: 0.4413\n",
      "Epoch 31/100\n",
      "24/24 [==============================] - 0s 4ms/step - loss: 0.7039 - accuracy: 0.4507\n",
      "Epoch 32/100\n",
      "24/24 [==============================] - 0s 3ms/step - loss: 0.7021 - accuracy: 0.4560\n",
      "Epoch 33/100\n",
      "24/24 [==============================] - 0s 3ms/step - loss: 0.7004 - accuracy: 0.4680\n",
      "Epoch 34/100\n",
      "24/24 [==============================] - 0s 3ms/step - loss: 0.6988 - accuracy: 0.4733\n",
      "Epoch 35/100\n",
      "24/24 [==============================] - 0s 4ms/step - loss: 0.6972 - accuracy: 0.4760\n",
      "Epoch 36/100\n",
      "24/24 [==============================] - 0s 4ms/step - loss: 0.6957 - accuracy: 0.4840\n",
      "Epoch 37/100\n",
      "24/24 [==============================] - 0s 6ms/step - loss: 0.6943 - accuracy: 0.4933\n",
      "Epoch 38/100\n",
      "24/24 [==============================] - 0s 2ms/step - loss: 0.6930 - accuracy: 0.5067\n",
      "Epoch 39/100\n",
      "24/24 [==============================] - 0s 2ms/step - loss: 0.6916 - accuracy: 0.5213\n",
      "Epoch 40/100\n",
      "24/24 [==============================] - 0s 3ms/step - loss: 0.6903 - accuracy: 0.5333\n",
      "Epoch 41/100\n",
      "24/24 [==============================] - 0s 2ms/step - loss: 0.6889 - accuracy: 0.5413\n",
      "Epoch 42/100\n",
      "24/24 [==============================] - 0s 3ms/step - loss: 0.6876 - accuracy: 0.5613\n",
      "Epoch 43/100\n",
      "24/24 [==============================] - 0s 2ms/step - loss: 0.6863 - accuracy: 0.5680\n",
      "Epoch 44/100\n",
      "24/24 [==============================] - 0s 2ms/step - loss: 0.6849 - accuracy: 0.5813\n",
      "Epoch 45/100\n",
      "24/24 [==============================] - 0s 2ms/step - loss: 0.6834 - accuracy: 0.5920\n",
      "Epoch 46/100\n",
      "24/24 [==============================] - 0s 2ms/step - loss: 0.6819 - accuracy: 0.6053\n",
      "Epoch 47/100\n",
      "24/24 [==============================] - 0s 2ms/step - loss: 0.6802 - accuracy: 0.6160\n",
      "Epoch 48/100\n",
      "24/24 [==============================] - 0s 2ms/step - loss: 0.6782 - accuracy: 0.6320\n",
      "Epoch 49/100\n",
      "24/24 [==============================] - 0s 2ms/step - loss: 0.6760 - accuracy: 0.6493\n",
      "Epoch 50/100\n",
      "24/24 [==============================] - 0s 2ms/step - loss: 0.6735 - accuracy: 0.6640\n",
      "Epoch 51/100\n",
      "24/24 [==============================] - 0s 2ms/step - loss: 0.6707 - accuracy: 0.6787\n",
      "Epoch 52/100\n",
      "24/24 [==============================] - 0s 2ms/step - loss: 0.6674 - accuracy: 0.7000\n",
      "Epoch 53/100\n",
      "24/24 [==============================] - 0s 2ms/step - loss: 0.6636 - accuracy: 0.7213\n",
      "Epoch 54/100\n",
      "24/24 [==============================] - 0s 2ms/step - loss: 0.6591 - accuracy: 0.7400\n",
      "Epoch 55/100\n",
      "24/24 [==============================] - 0s 3ms/step - loss: 0.6535 - accuracy: 0.7720\n",
      "Epoch 56/100\n",
      "24/24 [==============================] - 0s 2ms/step - loss: 0.6467 - accuracy: 0.7960\n",
      "Epoch 57/100\n",
      "24/24 [==============================] - 0s 2ms/step - loss: 0.6385 - accuracy: 0.8307\n",
      "Epoch 58/100\n",
      "24/24 [==============================] - 0s 1ms/step - loss: 0.6284 - accuracy: 0.8733\n",
      "Epoch 59/100\n",
      "24/24 [==============================] - 0s 2ms/step - loss: 0.6165 - accuracy: 0.8987\n",
      "Epoch 60/100\n",
      "24/24 [==============================] - 0s 2ms/step - loss: 0.6023 - accuracy: 0.9293\n",
      "Epoch 61/100\n",
      "24/24 [==============================] - 0s 2ms/step - loss: 0.5862 - accuracy: 0.9560\n",
      "Epoch 62/100\n",
      "24/24 [==============================] - 0s 2ms/step - loss: 0.5686 - accuracy: 0.9787\n",
      "Epoch 63/100\n",
      "24/24 [==============================] - 0s 2ms/step - loss: 0.5502 - accuracy: 0.9880\n",
      "Epoch 64/100\n",
      "24/24 [==============================] - 0s 2ms/step - loss: 0.5313 - accuracy: 0.9947\n",
      "Epoch 65/100\n",
      "24/24 [==============================] - 0s 2ms/step - loss: 0.5127 - accuracy: 0.9987\n",
      "Epoch 66/100\n",
      "24/24 [==============================] - 0s 2ms/step - loss: 0.4943 - accuracy: 0.9987\n",
      "Epoch 67/100\n",
      "24/24 [==============================] - 0s 2ms/step - loss: 0.4764 - accuracy: 1.0000\n",
      "Epoch 68/100\n",
      "24/24 [==============================] - 0s 2ms/step - loss: 0.4590 - accuracy: 1.0000\n",
      "Epoch 69/100\n",
      "24/24 [==============================] - 0s 2ms/step - loss: 0.4423 - accuracy: 1.0000\n",
      "Epoch 70/100\n",
      "24/24 [==============================] - 0s 2ms/step - loss: 0.4261 - accuracy: 1.0000\n",
      "Epoch 71/100\n",
      "24/24 [==============================] - 0s 2ms/step - loss: 0.4107 - accuracy: 1.0000\n",
      "Epoch 72/100\n",
      "24/24 [==============================] - 0s 2ms/step - loss: 0.3957 - accuracy: 1.0000\n",
      "Epoch 73/100\n",
      "24/24 [==============================] - 0s 2ms/step - loss: 0.3816 - accuracy: 1.0000\n",
      "Epoch 74/100\n",
      "24/24 [==============================] - 0s 2ms/step - loss: 0.3681 - accuracy: 1.0000\n",
      "Epoch 75/100\n",
      "24/24 [==============================] - 0s 2ms/step - loss: 0.3553 - accuracy: 1.0000\n",
      "Epoch 76/100\n",
      "24/24 [==============================] - 0s 3ms/step - loss: 0.3430 - accuracy: 1.0000\n",
      "Epoch 77/100\n",
      "24/24 [==============================] - 0s 2ms/step - loss: 0.3315 - accuracy: 1.0000\n",
      "Epoch 78/100\n",
      "24/24 [==============================] - 0s 2ms/step - loss: 0.3205 - accuracy: 1.0000\n",
      "Epoch 79/100\n",
      "24/24 [==============================] - 0s 2ms/step - loss: 0.3100 - accuracy: 1.0000\n",
      "Epoch 80/100\n",
      "24/24 [==============================] - 0s 1ms/step - loss: 0.3001 - accuracy: 1.0000\n",
      "Epoch 81/100\n",
      "24/24 [==============================] - 0s 2ms/step - loss: 0.2907 - accuracy: 1.0000\n",
      "Epoch 82/100\n"
     ]
    },
    {
     "name": "stdout",
     "output_type": "stream",
     "text": [
      "24/24 [==============================] - 0s 2ms/step - loss: 0.2818 - accuracy: 1.0000\n",
      "Epoch 83/100\n",
      "24/24 [==============================] - 0s 2ms/step - loss: 0.2733 - accuracy: 1.0000\n",
      "Epoch 84/100\n",
      "24/24 [==============================] - 0s 2ms/step - loss: 0.2652 - accuracy: 1.0000\n",
      "Epoch 85/100\n",
      "24/24 [==============================] - 0s 2ms/step - loss: 0.2575 - accuracy: 1.0000\n",
      "Epoch 86/100\n",
      "24/24 [==============================] - 0s 2ms/step - loss: 0.2501 - accuracy: 1.0000\n",
      "Epoch 87/100\n",
      "24/24 [==============================] - 0s 2ms/step - loss: 0.2431 - accuracy: 1.0000\n",
      "Epoch 88/100\n",
      "24/24 [==============================] - 0s 2ms/step - loss: 0.2364 - accuracy: 1.0000\n",
      "Epoch 89/100\n",
      "24/24 [==============================] - 0s 2ms/step - loss: 0.2300 - accuracy: 1.0000\n",
      "Epoch 90/100\n",
      "24/24 [==============================] - 0s 2ms/step - loss: 0.2239 - accuracy: 1.0000\n",
      "Epoch 91/100\n",
      "24/24 [==============================] - 0s 2ms/step - loss: 0.2181 - accuracy: 1.0000\n",
      "Epoch 92/100\n",
      "24/24 [==============================] - 0s 2ms/step - loss: 0.2125 - accuracy: 1.0000\n",
      "Epoch 93/100\n",
      "24/24 [==============================] - 0s 2ms/step - loss: 0.2072 - accuracy: 1.0000\n",
      "Epoch 94/100\n",
      "24/24 [==============================] - 0s 2ms/step - loss: 0.2021 - accuracy: 1.0000\n",
      "Epoch 95/100\n",
      "24/24 [==============================] - 0s 2ms/step - loss: 0.1971 - accuracy: 1.0000\n",
      "Epoch 96/100\n",
      "24/24 [==============================] - 0s 2ms/step - loss: 0.1924 - accuracy: 1.0000\n",
      "Epoch 97/100\n",
      "24/24 [==============================] - 0s 2ms/step - loss: 0.1878 - accuracy: 1.0000\n",
      "Epoch 98/100\n",
      "24/24 [==============================] - 0s 2ms/step - loss: 0.1834 - accuracy: 1.0000\n",
      "Epoch 99/100\n",
      "24/24 [==============================] - 0s 2ms/step - loss: 0.1791 - accuracy: 1.0000\n",
      "Epoch 100/100\n",
      "24/24 [==============================] - 0s 2ms/step - loss: 0.1751 - accuracy: 1.0000\n"
     ]
    }
   ],
   "source": [
    "# Fit the model to the training data\n",
    "fit_model = nn_model.fit(X_train_scaled, y_train, epochs=100)"
   ]
  },
  {
   "cell_type": "code",
   "execution_count": 11,
   "id": "4e392acd",
   "metadata": {},
   "outputs": [
    {
     "data": {
      "text/plain": [
       "<AxesSubplot:>"
      ]
     },
     "execution_count": 11,
     "metadata": {},
     "output_type": "execute_result"
    },
    {
     "data": {
      "image/png": "[encoded data removed]",
      "text/plain": [
       "<Figure size 432x288 with 1 Axes>"
      ]
     },
     "metadata": {
      "needs_background": "light"
     },
     "output_type": "display_data"
    }
   ],
   "source": [
    "# Create a DataFrame containing training history\n",
    "history_df = pd.DataFrame(fit_model.history, index=range(1,len(fit_model.history[\"loss\"])+1))\n",
    "\n",
    "# Plot the loss\n",
    "history_df.plot(y=\"loss\")\n"
   ]
  },
  {
   "cell_type": "code",
   "execution_count": 12,
   "id": "2ecba345",
   "metadata": {},
   "outputs": [
    {
     "data": {
      "text/plain": [
       "<AxesSubplot:>"
      ]
     },
     "execution_count": 12,
     "metadata": {},
     "output_type": "execute_result"
    },
    {
     "data": {
      "image/png": "[encoded data removed]",
      "text/plain": [
       "<Figure size 432x288 with 1 Axes>"
      ]
     },
     "metadata": {
      "needs_background": "light"
     },
     "output_type": "display_data"
    }
   ],
   "source": [
    "# Plot the accuracy\n",
    "history_df.plot(y=\"accuracy\")\n"
   ]
  },
  {
   "cell_type": "code",
   "execution_count": 13,
   "id": "f23915d0",
   "metadata": {},
   "outputs": [
    {
     "name": "stdout",
     "output_type": "stream",
     "text": [
      "8/8 - 0s - loss: 0.1782 - accuracy: 1.0000\n",
      "Loss: 0.17821748554706573, Accuracy: 1.0\n"
     ]
    }
   ],
   "source": [
    "# Evaluate the model using the test data\n",
    "model_loss, model_accuracy = nn_model.evaluate(X_test_scaled,y_test,verbose=2)\n",
    "print(f\"Loss: {model_loss}, Accuracy: {model_accuracy}\")\n"
   ]
  },
  {
   "cell_type": "code",
   "execution_count": 14,
   "id": "57e51767",
   "metadata": {},
   "outputs": [
    {
     "data": {
      "text/plain": [
       "array([[0],\n",
       "       [1],\n",
       "       [0],\n",
       "       [1],\n",
       "       [0],\n",
       "       [0],\n",
       "       [1],\n",
       "       [1],\n",
       "       [1],\n",
       "       [0]], dtype=int32)"
      ]
     },
     "execution_count": 14,
     "metadata": {},
     "output_type": "execute_result"
    }
   ],
   "source": [
    "# Predict the classification of a new set of blob data\n",
    "new_X, new_Y = make_blobs(n_samples=10, centers=2, n_features=2, random_state=78)\n",
    "new_X_scaled = X_scaler.transform(new_X)\n",
    "(nn_model.predict(new_X_scaled) > 0.5).astype(\"int32\")\n"
   ]
  },
  {
   "cell_type": "code",
   "execution_count": 15,
   "id": "619222f1",
   "metadata": {},
   "outputs": [
    {
     "data": {
      "text/plain": [
       "<AxesSubplot:xlabel='Feature 1', ylabel='Feature 2'>"
      ]
     },
     "execution_count": 15,
     "metadata": {},
     "output_type": "execute_result"
    },
    {
     "data": {
      "image/png": "[encoded data removed]",
      "text/plain": [
       "<Figure size 432x288 with 2 Axes>"
      ]
     },
     "metadata": {
      "needs_background": "light"
     },
     "output_type": "display_data"
    }
   ],
   "source": [
    "from sklearn.datasets import make_moons\n",
    "\n",
    "# Creating dummy nonlinear data\n",
    "X_moons, y_moons = make_moons(n_samples=1000, noise=0.08, random_state=78)\n",
    "\n",
    "# Transforming y_moons to a vertical vector\n",
    "y_moons = y_moons.reshape(-1, 1)\n",
    "\n",
    "# Creating a DataFrame to plot the nonlinear dummy data\n",
    "df_moons = pd.DataFrame(X_moons, columns=[\"Feature 1\", \"Feature 2\"])\n",
    "df_moons[\"Target\"] = y_moons\n",
    "\n",
    "# Plot the nonlinear dummy data\n",
    "df_moons.plot.scatter(x=\"Feature 1\",y=\"Feature 2\", c=\"Target\",colormap=\"winter\")"
   ]
  },
  {
   "cell_type": "code",
   "execution_count": 16,
   "id": "bc688388",
   "metadata": {},
   "outputs": [],
   "source": [
    "# Create training and testing sets\n",
    "X_moon_train, X_moon_test, y_moon_train, y_moon_test = train_test_split(\n",
    "    X_moons, y_moons, random_state=78\n",
    ")\n",
    "\n",
    "# Create the scaler instance\n",
    "X_moon_scaler = skl.preprocessing.StandardScaler()\n",
    "\n",
    "# Fit the scaler\n",
    "X_moon_scaler.fit(X_moon_train)\n",
    "\n",
    "# Scale the data\n",
    "X_moon_train_scaled = X_moon_scaler.transform(X_moon_train)\n",
    "X_moon_test_scaled = X_moon_scaler.transform(X_moon_test)"
   ]
  },
  {
   "cell_type": "code",
   "execution_count": 17,
   "id": "01791e04",
   "metadata": {},
   "outputs": [
    {
     "name": "stdout",
     "output_type": "stream",
     "text": [
      "Epoch 1/100\n",
      "24/24 [==============================] - 0s 3ms/step - loss: 0.6139 - accuracy: 0.6560\n",
      "Epoch 2/100\n",
      "24/24 [==============================] - 0s 3ms/step - loss: 0.5880 - accuracy: 0.6640\n",
      "Epoch 3/100\n",
      "24/24 [==============================] - 0s 3ms/step - loss: 0.5647 - accuracy: 0.6787\n",
      "Epoch 4/100\n",
      "24/24 [==============================] - 0s 3ms/step - loss: 0.5448 - accuracy: 0.6947\n",
      "Epoch 5/100\n",
      "24/24 [==============================] - 0s 3ms/step - loss: 0.5294 - accuracy: 0.7013\n",
      "Epoch 6/100\n",
      "24/24 [==============================] - 0s 3ms/step - loss: 0.5161 - accuracy: 0.7133\n",
      "Epoch 7/100\n",
      "24/24 [==============================] - 0s 3ms/step - loss: 0.5049 - accuracy: 0.7253\n",
      "Epoch 8/100\n",
      "24/24 [==============================] - 0s 3ms/step - loss: 0.4951 - accuracy: 0.7333\n",
      "Epoch 9/100\n",
      "24/24 [==============================] - 0s 3ms/step - loss: 0.4863 - accuracy: 0.7373\n",
      "Epoch 10/100\n",
      "24/24 [==============================] - 0s 3ms/step - loss: 0.4781 - accuracy: 0.7440\n",
      "Epoch 11/100\n",
      "24/24 [==============================] - 0s 3ms/step - loss: 0.4706 - accuracy: 0.7480\n",
      "Epoch 12/100\n",
      "24/24 [==============================] - 0s 3ms/step - loss: 0.4637 - accuracy: 0.7507\n",
      "Epoch 13/100\n",
      "24/24 [==============================] - 0s 4ms/step - loss: 0.4574 - accuracy: 0.7547\n",
      "Epoch 14/100\n",
      "24/24 [==============================] - 0s 3ms/step - loss: 0.4515 - accuracy: 0.7587\n",
      "Epoch 15/100\n",
      "24/24 [==============================] - 0s 3ms/step - loss: 0.4460 - accuracy: 0.7627\n",
      "Epoch 16/100\n",
      "24/24 [==============================] - 0s 3ms/step - loss: 0.4406 - accuracy: 0.7707\n",
      "Epoch 17/100\n",
      "24/24 [==============================] - 0s 4ms/step - loss: 0.4356 - accuracy: 0.7747\n",
      "Epoch 18/100\n",
      "24/24 [==============================] - 0s 3ms/step - loss: 0.4306 - accuracy: 0.7760\n",
      "Epoch 19/100\n",
      "24/24 [==============================] - 0s 3ms/step - loss: 0.4261 - accuracy: 0.7800\n",
      "Epoch 20/100\n",
      "24/24 [==============================] - 0s 7ms/step - loss: 0.4216 - accuracy: 0.7840\n",
      "Epoch 21/100\n",
      "24/24 [==============================] - 0s 7ms/step - loss: 0.4174 - accuracy: 0.7907\n",
      "Epoch 22/100\n",
      "24/24 [==============================] - 0s 3ms/step - loss: 0.4133 - accuracy: 0.7960\n",
      "Epoch 23/100\n",
      "24/24 [==============================] - 0s 4ms/step - loss: 0.4092 - accuracy: 0.8013\n",
      "Epoch 24/100\n",
      "24/24 [==============================] - 0s 4ms/step - loss: 0.4053 - accuracy: 0.8053\n",
      "Epoch 25/100\n",
      "24/24 [==============================] - 0s 5ms/step - loss: 0.4013 - accuracy: 0.8080\n",
      "Epoch 26/100\n",
      "24/24 [==============================] - 0s 5ms/step - loss: 0.3975 - accuracy: 0.8133\n",
      "Epoch 27/100\n",
      "24/24 [==============================] - 0s 5ms/step - loss: 0.3938 - accuracy: 0.8147\n",
      "Epoch 28/100\n",
      "24/24 [==============================] - 0s 4ms/step - loss: 0.3901 - accuracy: 0.8213\n",
      "Epoch 29/100\n",
      "24/24 [==============================] - 0s 3ms/step - loss: 0.3863 - accuracy: 0.8240\n",
      "Epoch 30/100\n",
      "24/24 [==============================] - 0s 3ms/step - loss: 0.3829 - accuracy: 0.8280\n",
      "Epoch 31/100\n",
      "24/24 [==============================] - 0s 3ms/step - loss: 0.3794 - accuracy: 0.8280\n",
      "Epoch 32/100\n",
      "24/24 [==============================] - 0s 4ms/step - loss: 0.3760 - accuracy: 0.8307\n",
      "Epoch 33/100\n",
      "24/24 [==============================] - 0s 4ms/step - loss: 0.3726 - accuracy: 0.8333\n",
      "Epoch 34/100\n",
      "24/24 [==============================] - 0s 4ms/step - loss: 0.3693 - accuracy: 0.8360\n",
      "Epoch 35/100\n",
      "24/24 [==============================] - 0s 3ms/step - loss: 0.3661 - accuracy: 0.8400\n",
      "Epoch 36/100\n",
      "24/24 [==============================] - 0s 4ms/step - loss: 0.3630 - accuracy: 0.8440\n",
      "Epoch 37/100\n",
      "24/24 [==============================] - 0s 4ms/step - loss: 0.3597 - accuracy: 0.8480\n",
      "Epoch 38/100\n",
      "24/24 [==============================] - 0s 4ms/step - loss: 0.3566 - accuracy: 0.8480: 0s - loss: 0.3581 - accuracy: 0.84\n",
      "Epoch 39/100\n",
      "24/24 [==============================] - 0s 4ms/step - loss: 0.3536 - accuracy: 0.8480\n",
      "Epoch 40/100\n",
      "24/24 [==============================] - 0s 3ms/step - loss: 0.3506 - accuracy: 0.8507\n",
      "Epoch 41/100\n",
      "24/24 [==============================] - 0s 4ms/step - loss: 0.3477 - accuracy: 0.8533\n",
      "Epoch 42/100\n",
      "24/24 [==============================] - 0s 4ms/step - loss: 0.3447 - accuracy: 0.8533\n",
      "Epoch 43/100\n",
      "24/24 [==============================] - 0s 5ms/step - loss: 0.3418 - accuracy: 0.8587\n",
      "Epoch 44/100\n",
      "24/24 [==============================] - 0s 4ms/step - loss: 0.3389 - accuracy: 0.8600\n",
      "Epoch 45/100\n",
      "24/24 [==============================] - 0s 3ms/step - loss: 0.3361 - accuracy: 0.8600\n",
      "Epoch 46/100\n",
      "24/24 [==============================] - 0s 5ms/step - loss: 0.3333 - accuracy: 0.8627\n",
      "Epoch 47/100\n",
      "24/24 [==============================] - 0s 3ms/step - loss: 0.3308 - accuracy: 0.8640\n",
      "Epoch 48/100\n",
      "24/24 [==============================] - 0s 6ms/step - loss: 0.3282 - accuracy: 0.8653\n",
      "Epoch 49/100\n",
      "24/24 [==============================] - 0s 4ms/step - loss: 0.3257 - accuracy: 0.8680\n",
      "Epoch 50/100\n",
      "24/24 [==============================] - 0s 4ms/step - loss: 0.3232 - accuracy: 0.8693\n",
      "Epoch 51/100\n",
      "24/24 [==============================] - 0s 5ms/step - loss: 0.3209 - accuracy: 0.8720\n",
      "Epoch 52/100\n",
      "24/24 [==============================] - 0s 4ms/step - loss: 0.3186 - accuracy: 0.8720\n",
      "Epoch 53/100\n",
      "24/24 [==============================] - 0s 3ms/step - loss: 0.3163 - accuracy: 0.8720\n",
      "Epoch 54/100\n",
      "24/24 [==============================] - 0s 3ms/step - loss: 0.3142 - accuracy: 0.8720\n",
      "Epoch 55/100\n",
      "24/24 [==============================] - 0s 4ms/step - loss: 0.3120 - accuracy: 0.8720\n",
      "Epoch 56/100\n",
      "24/24 [==============================] - 0s 4ms/step - loss: 0.3100 - accuracy: 0.8720\n",
      "Epoch 57/100\n",
      "24/24 [==============================] - 0s 3ms/step - loss: 0.3080 - accuracy: 0.8747\n",
      "Epoch 58/100\n",
      "24/24 [==============================] - 0s 2ms/step - loss: 0.3060 - accuracy: 0.8747\n",
      "Epoch 59/100\n",
      "24/24 [==============================] - 0s 2ms/step - loss: 0.3041 - accuracy: 0.8747\n",
      "Epoch 60/100\n",
      "24/24 [==============================] - 0s 3ms/step - loss: 0.3022 - accuracy: 0.8773\n",
      "Epoch 61/100\n",
      "24/24 [==============================] - 0s 3ms/step - loss: 0.3005 - accuracy: 0.8800\n",
      "Epoch 62/100\n",
      "24/24 [==============================] - 0s 3ms/step - loss: 0.2989 - accuracy: 0.8813\n",
      "Epoch 63/100\n",
      "24/24 [==============================] - 0s 4ms/step - loss: 0.2974 - accuracy: 0.8840\n",
      "Epoch 64/100\n",
      "24/24 [==============================] - 0s 4ms/step - loss: 0.2961 - accuracy: 0.8867\n",
      "Epoch 65/100\n",
      "24/24 [==============================] - 0s 4ms/step - loss: 0.2948 - accuracy: 0.8880\n",
      "Epoch 66/100\n",
      "24/24 [==============================] - 0s 3ms/step - loss: 0.2936 - accuracy: 0.8893\n",
      "Epoch 67/100\n",
      "24/24 [==============================] - 0s 3ms/step - loss: 0.2925 - accuracy: 0.8907\n",
      "Epoch 68/100\n",
      "24/24 [==============================] - 0s 3ms/step - loss: 0.2914 - accuracy: 0.8933\n",
      "Epoch 69/100\n",
      "24/24 [==============================] - 0s 4ms/step - loss: 0.2905 - accuracy: 0.8920\n",
      "Epoch 70/100\n",
      "24/24 [==============================] - 0s 3ms/step - loss: 0.2895 - accuracy: 0.8933\n",
      "Epoch 71/100\n",
      "24/24 [==============================] - 0s 3ms/step - loss: 0.2887 - accuracy: 0.8933\n",
      "Epoch 72/100\n",
      "24/24 [==============================] - 0s 3ms/step - loss: 0.2879 - accuracy: 0.8933\n",
      "Epoch 73/100\n",
      "24/24 [==============================] - 0s 4ms/step - loss: 0.2872 - accuracy: 0.8933\n",
      "Epoch 74/100\n",
      "24/24 [==============================] - 0s 3ms/step - loss: 0.2864 - accuracy: 0.8920\n",
      "Epoch 75/100\n",
      "24/24 [==============================] - 0s 4ms/step - loss: 0.2858 - accuracy: 0.8920\n",
      "Epoch 76/100\n",
      "24/24 [==============================] - 0s 3ms/step - loss: 0.2851 - accuracy: 0.8907\n",
      "Epoch 77/100\n",
      "24/24 [==============================] - 0s 4ms/step - loss: 0.2845 - accuracy: 0.8907\n",
      "Epoch 78/100\n",
      "24/24 [==============================] - 0s 3ms/step - loss: 0.2839 - accuracy: 0.8907\n",
      "Epoch 79/100\n",
      "24/24 [==============================] - 0s 2ms/step - loss: 0.2833 - accuracy: 0.8920\n",
      "Epoch 80/100\n",
      "24/24 [==============================] - 0s 3ms/step - loss: 0.2827 - accuracy: 0.8920\n",
      "Epoch 81/100\n",
      "24/24 [==============================] - 0s 3ms/step - loss: 0.2822 - accuracy: 0.8920\n",
      "Epoch 82/100\n"
     ]
    },
    {
     "name": "stdout",
     "output_type": "stream",
     "text": [
      "24/24 [==============================] - 0s 7ms/step - loss: 0.2817 - accuracy: 0.8920\n",
      "Epoch 83/100\n",
      "24/24 [==============================] - 0s 2ms/step - loss: 0.2812 - accuracy: 0.8920\n",
      "Epoch 84/100\n",
      "24/24 [==============================] - 0s 2ms/step - loss: 0.2807 - accuracy: 0.8920\n",
      "Epoch 85/100\n",
      "24/24 [==============================] - 0s 2ms/step - loss: 0.2802 - accuracy: 0.8920\n",
      "Epoch 86/100\n",
      "24/24 [==============================] - 0s 2ms/step - loss: 0.2798 - accuracy: 0.8920\n",
      "Epoch 87/100\n",
      "24/24 [==============================] - 0s 2ms/step - loss: 0.2794 - accuracy: 0.8920\n",
      "Epoch 88/100\n",
      "24/24 [==============================] - 0s 2ms/step - loss: 0.2789 - accuracy: 0.8920\n",
      "Epoch 89/100\n",
      "24/24 [==============================] - 0s 2ms/step - loss: 0.2785 - accuracy: 0.8920\n",
      "Epoch 90/100\n",
      "24/24 [==============================] - 0s 2ms/step - loss: 0.2781 - accuracy: 0.8920\n",
      "Epoch 91/100\n",
      "24/24 [==============================] - 0s 2ms/step - loss: 0.2777 - accuracy: 0.8920\n",
      "Epoch 92/100\n",
      "24/24 [==============================] - 0s 2ms/step - loss: 0.2773 - accuracy: 0.8920\n",
      "Epoch 93/100\n",
      "24/24 [==============================] - 0s 3ms/step - loss: 0.2769 - accuracy: 0.8920\n",
      "Epoch 94/100\n",
      "24/24 [==============================] - 0s 2ms/step - loss: 0.2766 - accuracy: 0.8933\n",
      "Epoch 95/100\n",
      "24/24 [==============================] - 0s 2ms/step - loss: 0.2762 - accuracy: 0.8933\n",
      "Epoch 96/100\n",
      "24/24 [==============================] - 0s 2ms/step - loss: 0.2758 - accuracy: 0.8933\n",
      "Epoch 97/100\n",
      "24/24 [==============================] - 0s 2ms/step - loss: 0.2755 - accuracy: 0.8933\n",
      "Epoch 98/100\n",
      "24/24 [==============================] - 0s 2ms/step - loss: 0.2751 - accuracy: 0.8933\n",
      "Epoch 99/100\n",
      "24/24 [==============================] - 0s 2ms/step - loss: 0.2749 - accuracy: 0.8933\n",
      "Epoch 100/100\n",
      "24/24 [==============================] - 0s 2ms/step - loss: 0.2745 - accuracy: 0.8933\n"
     ]
    }
   ],
   "source": [
    "# Training the model with the nonlinear data\n",
    "model_moon = nn_model.fit(X_moon_train_scaled, y_moon_train, epochs=100, shuffle=True)"
   ]
  },
  {
   "cell_type": "code",
   "execution_count": 18,
   "id": "229626e0",
   "metadata": {},
   "outputs": [
    {
     "data": {
      "text/plain": [
       "<AxesSubplot:>"
      ]
     },
     "execution_count": 18,
     "metadata": {},
     "output_type": "execute_result"
    },
    {
     "data": {
      "image/png": "[encoded data removed]",
      "text/plain": [
       "<Figure size 432x288 with 1 Axes>"
      ]
     },
     "metadata": {
      "needs_background": "light"
     },
     "output_type": "display_data"
    }
   ],
   "source": [
    "# Create a DataFrame containing training history\n",
    "history_df = pd.DataFrame(model_moon.history, index=range(1,len(model_moon.history[\"loss\"])+1))\n",
    "\n",
    "# Plot the loss\n",
    "history_df.plot(y=\"loss\")"
   ]
  },
  {
   "cell_type": "code",
   "execution_count": 19,
   "id": "d1bcb69d",
   "metadata": {},
   "outputs": [
    {
     "data": {
      "text/plain": [
       "<AxesSubplot:>"
      ]
     },
     "execution_count": 19,
     "metadata": {},
     "output_type": "execute_result"
    },
    {
     "data": {
      "image/png": "[encoded data removed]",
      "text/plain": [
       "<Figure size 432x288 with 1 Axes>"
      ]
     },
     "metadata": {
      "needs_background": "light"
     },
     "output_type": "display_data"
    }
   ],
   "source": [
    "# Plot the accuracy\n",
    "history_df.plot(y=\"accuracy\")"
   ]
  },
  {
   "cell_type": "code",
   "execution_count": 20,
   "id": "0418840b",
   "metadata": {},
   "outputs": [],
   "source": [
    "# Generate our new Sequential model\n",
    "new_model = tf.keras.models.Sequential()"
   ]
  },
  {
   "cell_type": "code",
   "execution_count": 21,
   "id": "771ff6f3",
   "metadata": {},
   "outputs": [],
   "source": [
    "# Add the input and hidden layer\n",
    "number_inputs = 2\n",
    "number_hidden_nodes = 6\n",
    "\n",
    "new_model.add(tf.keras.layers.Dense(units=number_hidden_nodes, activation=\"relu\", input_dim=number_inputs))\n",
    "\n",
    "# Add the output layer that uses a probability activation function\n",
    "new_model.add(tf.keras.layers.Dense(units=1, activation=\"sigmoid\"))"
   ]
  },
  {
   "cell_type": "code",
   "execution_count": 22,
   "id": "bc9a1638",
   "metadata": {},
   "outputs": [
    {
     "name": "stdout",
     "output_type": "stream",
     "text": [
      "Epoch 1/100\n",
      "24/24 [==============================] - 1s 2ms/step - loss: 0.5505 - accuracy: 0.8320\n",
      "Epoch 2/100\n",
      "24/24 [==============================] - 0s 3ms/step - loss: 0.5183 - accuracy: 0.8707\n",
      "Epoch 3/100\n",
      "24/24 [==============================] - 0s 2ms/step - loss: 0.4886 - accuracy: 0.8680\n",
      "Epoch 4/100\n",
      "24/24 [==============================] - 0s 3ms/step - loss: 0.4622 - accuracy: 0.8680\n",
      "Epoch 5/100\n",
      "24/24 [==============================] - 0s 2ms/step - loss: 0.4381 - accuracy: 0.8680\n",
      "Epoch 6/100\n",
      "24/24 [==============================] - 0s 2ms/step - loss: 0.4169 - accuracy: 0.8680\n",
      "Epoch 7/100\n",
      "24/24 [==============================] - 0s 3ms/step - loss: 0.3980 - accuracy: 0.8680\n",
      "Epoch 8/100\n",
      "24/24 [==============================] - 0s 3ms/step - loss: 0.3809 - accuracy: 0.8680\n",
      "Epoch 9/100\n",
      "24/24 [==============================] - 0s 3ms/step - loss: 0.3663 - accuracy: 0.8693\n",
      "Epoch 10/100\n",
      "24/24 [==============================] - 0s 2ms/step - loss: 0.3533 - accuracy: 0.8693\n",
      "Epoch 11/100\n",
      "24/24 [==============================] - 0s 4ms/step - loss: 0.3419 - accuracy: 0.8693\n",
      "Epoch 12/100\n",
      "24/24 [==============================] - 0s 3ms/step - loss: 0.3318 - accuracy: 0.8693\n",
      "Epoch 13/100\n",
      "24/24 [==============================] - 0s 2ms/step - loss: 0.3230 - accuracy: 0.8707\n",
      "Epoch 14/100\n",
      "24/24 [==============================] - 0s 3ms/step - loss: 0.3152 - accuracy: 0.8707\n",
      "Epoch 15/100\n",
      "24/24 [==============================] - 0s 4ms/step - loss: 0.3084 - accuracy: 0.8720\n",
      "Epoch 16/100\n",
      "24/24 [==============================] - 0s 5ms/step - loss: 0.3022 - accuracy: 0.8720\n",
      "Epoch 17/100\n",
      "24/24 [==============================] - 0s 3ms/step - loss: 0.2969 - accuracy: 0.8720\n",
      "Epoch 18/100\n",
      "24/24 [==============================] - 0s 4ms/step - loss: 0.2921 - accuracy: 0.8733\n",
      "Epoch 19/100\n",
      "24/24 [==============================] - 0s 4ms/step - loss: 0.2877 - accuracy: 0.8733\n",
      "Epoch 20/100\n",
      "24/24 [==============================] - 0s 5ms/step - loss: 0.2838 - accuracy: 0.8760\n",
      "Epoch 21/100\n",
      "24/24 [==============================] - 0s 4ms/step - loss: 0.2806 - accuracy: 0.8760\n",
      "Epoch 22/100\n",
      "24/24 [==============================] - 0s 4ms/step - loss: 0.2772 - accuracy: 0.8773\n",
      "Epoch 23/100\n",
      "24/24 [==============================] - 0s 4ms/step - loss: 0.2744 - accuracy: 0.8800\n",
      "Epoch 24/100\n",
      "24/24 [==============================] - 0s 4ms/step - loss: 0.2720 - accuracy: 0.8827\n",
      "Epoch 25/100\n",
      "24/24 [==============================] - 0s 3ms/step - loss: 0.2698 - accuracy: 0.8840\n",
      "Epoch 26/100\n",
      "24/24 [==============================] - 0s 5ms/step - loss: 0.2677 - accuracy: 0.8840\n",
      "Epoch 27/100\n",
      "24/24 [==============================] - 0s 3ms/step - loss: 0.2660 - accuracy: 0.8840\n",
      "Epoch 28/100\n",
      "24/24 [==============================] - 0s 3ms/step - loss: 0.2643 - accuracy: 0.8840\n",
      "Epoch 29/100\n",
      "24/24 [==============================] - 0s 2ms/step - loss: 0.2630 - accuracy: 0.8867\n",
      "Epoch 30/100\n",
      "24/24 [==============================] - 0s 3ms/step - loss: 0.2616 - accuracy: 0.8867\n",
      "Epoch 31/100\n",
      "24/24 [==============================] - 0s 2ms/step - loss: 0.2603 - accuracy: 0.8893\n",
      "Epoch 32/100\n",
      "24/24 [==============================] - 0s 4ms/step - loss: 0.2593 - accuracy: 0.8907\n",
      "Epoch 33/100\n",
      "24/24 [==============================] - 0s 3ms/step - loss: 0.2583 - accuracy: 0.8907\n",
      "Epoch 34/100\n",
      "24/24 [==============================] - 0s 2ms/step - loss: 0.2575 - accuracy: 0.8907\n",
      "Epoch 35/100\n",
      "24/24 [==============================] - 0s 3ms/step - loss: 0.2567 - accuracy: 0.8907\n",
      "Epoch 36/100\n",
      "24/24 [==============================] - 0s 3ms/step - loss: 0.2562 - accuracy: 0.8920\n",
      "Epoch 37/100\n",
      "24/24 [==============================] - 0s 3ms/step - loss: 0.2553 - accuracy: 0.8920\n",
      "Epoch 38/100\n",
      "24/24 [==============================] - 0s 4ms/step - loss: 0.2548 - accuracy: 0.8920\n",
      "Epoch 39/100\n",
      "24/24 [==============================] - 0s 4ms/step - loss: 0.2542 - accuracy: 0.8920\n",
      "Epoch 40/100\n",
      "24/24 [==============================] - 0s 4ms/step - loss: 0.2537 - accuracy: 0.8920\n",
      "Epoch 41/100\n",
      "24/24 [==============================] - 0s 3ms/step - loss: 0.2533 - accuracy: 0.8920\n",
      "Epoch 42/100\n",
      "24/24 [==============================] - 0s 3ms/step - loss: 0.2530 - accuracy: 0.8920\n",
      "Epoch 43/100\n",
      "24/24 [==============================] - 0s 3ms/step - loss: 0.2524 - accuracy: 0.8920\n",
      "Epoch 44/100\n",
      "24/24 [==============================] - 0s 3ms/step - loss: 0.2522 - accuracy: 0.8893\n",
      "Epoch 45/100\n",
      "24/24 [==============================] - 0s 4ms/step - loss: 0.2518 - accuracy: 0.8907\n",
      "Epoch 46/100\n",
      "24/24 [==============================] - 0s 4ms/step - loss: 0.2515 - accuracy: 0.8907\n",
      "Epoch 47/100\n",
      "24/24 [==============================] - 0s 4ms/step - loss: 0.2513 - accuracy: 0.8907\n",
      "Epoch 48/100\n",
      "24/24 [==============================] - 0s 4ms/step - loss: 0.2510 - accuracy: 0.8907\n",
      "Epoch 49/100\n",
      "24/24 [==============================] - 0s 4ms/step - loss: 0.2508 - accuracy: 0.8907\n",
      "Epoch 50/100\n",
      "24/24 [==============================] - 0s 2ms/step - loss: 0.2504 - accuracy: 0.8907\n",
      "Epoch 51/100\n",
      "24/24 [==============================] - 0s 3ms/step - loss: 0.2502 - accuracy: 0.8907\n",
      "Epoch 52/100\n",
      "24/24 [==============================] - 0s 3ms/step - loss: 0.2499 - accuracy: 0.8907\n",
      "Epoch 53/100\n",
      "24/24 [==============================] - 0s 4ms/step - loss: 0.2497 - accuracy: 0.8907\n",
      "Epoch 54/100\n",
      "24/24 [==============================] - 0s 5ms/step - loss: 0.2495 - accuracy: 0.8920\n",
      "Epoch 55/100\n",
      "24/24 [==============================] - 0s 4ms/step - loss: 0.2493 - accuracy: 0.8920\n",
      "Epoch 56/100\n",
      "24/24 [==============================] - 0s 3ms/step - loss: 0.2492 - accuracy: 0.8907\n",
      "Epoch 57/100\n",
      "24/24 [==============================] - 0s 2ms/step - loss: 0.2489 - accuracy: 0.8907\n",
      "Epoch 58/100\n",
      "24/24 [==============================] - 0s 2ms/step - loss: 0.2487 - accuracy: 0.8920\n",
      "Epoch 59/100\n",
      "24/24 [==============================] - 0s 2ms/step - loss: 0.2485 - accuracy: 0.8920\n",
      "Epoch 60/100\n",
      "24/24 [==============================] - 0s 2ms/step - loss: 0.2484 - accuracy: 0.8920\n",
      "Epoch 61/100\n",
      "24/24 [==============================] - 0s 5ms/step - loss: 0.2482 - accuracy: 0.8920\n",
      "Epoch 62/100\n",
      "24/24 [==============================] - 0s 4ms/step - loss: 0.2480 - accuracy: 0.8920\n",
      "Epoch 63/100\n",
      "24/24 [==============================] - 0s 4ms/step - loss: 0.2477 - accuracy: 0.8920\n",
      "Epoch 64/100\n",
      "24/24 [==============================] - 0s 3ms/step - loss: 0.2476 - accuracy: 0.8920\n",
      "Epoch 65/100\n",
      "24/24 [==============================] - 0s 1ms/step - loss: 0.2473 - accuracy: 0.8920\n",
      "Epoch 66/100\n",
      "24/24 [==============================] - 0s 1ms/step - loss: 0.2471 - accuracy: 0.8920\n",
      "Epoch 67/100\n",
      "24/24 [==============================] - 0s 1ms/step - loss: 0.2468 - accuracy: 0.8920\n",
      "Epoch 68/100\n",
      "24/24 [==============================] - 0s 1ms/step - loss: 0.2466 - accuracy: 0.8920\n",
      "Epoch 69/100\n",
      "24/24 [==============================] - 0s 1ms/step - loss: 0.2463 - accuracy: 0.8920\n",
      "Epoch 70/100\n",
      "24/24 [==============================] - 0s 1ms/step - loss: 0.2460 - accuracy: 0.8920\n",
      "Epoch 71/100\n",
      "24/24 [==============================] - 0s 6ms/step - loss: 0.2458 - accuracy: 0.8920\n",
      "Epoch 72/100\n",
      "24/24 [==============================] - 0s 2ms/step - loss: 0.2456 - accuracy: 0.8920\n",
      "Epoch 73/100\n",
      "24/24 [==============================] - 0s 2ms/step - loss: 0.2453 - accuracy: 0.8920\n",
      "Epoch 74/100\n",
      "24/24 [==============================] - 0s 2ms/step - loss: 0.2451 - accuracy: 0.8920\n",
      "Epoch 75/100\n",
      "24/24 [==============================] - 0s 2ms/step - loss: 0.2448 - accuracy: 0.8920\n",
      "Epoch 76/100\n",
      "24/24 [==============================] - 0s 3ms/step - loss: 0.2447 - accuracy: 0.8920\n",
      "Epoch 77/100\n",
      "24/24 [==============================] - 0s 5ms/step - loss: 0.2442 - accuracy: 0.8920\n",
      "Epoch 78/100\n",
      "24/24 [==============================] - 0s 2ms/step - loss: 0.2439 - accuracy: 0.8920\n",
      "Epoch 79/100\n",
      "24/24 [==============================] - 0s 2ms/step - loss: 0.2436 - accuracy: 0.8920\n",
      "Epoch 80/100\n",
      "24/24 [==============================] - 0s 2ms/step - loss: 0.2433 - accuracy: 0.8920\n",
      "Epoch 81/100\n",
      "24/24 [==============================] - 0s 2ms/step - loss: 0.2429 - accuracy: 0.8920\n",
      "Epoch 82/100\n",
      "24/24 [==============================] - 0s 2ms/step - loss: 0.2426 - accuracy: 0.8920\n",
      "Epoch 83/100\n"
     ]
    },
    {
     "name": "stdout",
     "output_type": "stream",
     "text": [
      "24/24 [==============================] - 0s 2ms/step - loss: 0.2423 - accuracy: 0.8920\n",
      "Epoch 84/100\n",
      "24/24 [==============================] - 0s 3ms/step - loss: 0.2418 - accuracy: 0.8920\n",
      "Epoch 85/100\n",
      "24/24 [==============================] - 0s 3ms/step - loss: 0.2415 - accuracy: 0.8920\n",
      "Epoch 86/100\n",
      "24/24 [==============================] - 0s 2ms/step - loss: 0.2410 - accuracy: 0.8920\n",
      "Epoch 87/100\n",
      "24/24 [==============================] - 0s 2ms/step - loss: 0.2407 - accuracy: 0.8920\n",
      "Epoch 88/100\n",
      "24/24 [==============================] - 0s 2ms/step - loss: 0.2404 - accuracy: 0.8920\n",
      "Epoch 89/100\n",
      "24/24 [==============================] - 0s 2ms/step - loss: 0.2399 - accuracy: 0.8920\n",
      "Epoch 90/100\n",
      "24/24 [==============================] - 0s 2ms/step - loss: 0.2394 - accuracy: 0.8933\n",
      "Epoch 91/100\n",
      "24/24 [==============================] - 0s 2ms/step - loss: 0.2390 - accuracy: 0.8933\n",
      "Epoch 92/100\n",
      "24/24 [==============================] - 0s 2ms/step - loss: 0.2386 - accuracy: 0.8933\n",
      "Epoch 93/100\n",
      "24/24 [==============================] - 0s 2ms/step - loss: 0.2382 - accuracy: 0.8920\n",
      "Epoch 94/100\n",
      "24/24 [==============================] - 0s 2ms/step - loss: 0.2377 - accuracy: 0.8933\n",
      "Epoch 95/100\n",
      "24/24 [==============================] - 0s 2ms/step - loss: 0.2373 - accuracy: 0.8933\n",
      "Epoch 96/100\n",
      "24/24 [==============================] - 0s 2ms/step - loss: 0.2369 - accuracy: 0.8933\n",
      "Epoch 97/100\n",
      "24/24 [==============================] - 0s 2ms/step - loss: 0.2364 - accuracy: 0.8933\n",
      "Epoch 98/100\n",
      "24/24 [==============================] - 0s 3ms/step - loss: 0.2359 - accuracy: 0.8933\n",
      "Epoch 99/100\n",
      "24/24 [==============================] - 0s 2ms/step - loss: 0.2354 - accuracy: 0.8933\n",
      "Epoch 100/100\n",
      "24/24 [==============================] - 0s 2ms/step - loss: 0.2350 - accuracy: 0.8933\n"
     ]
    }
   ],
   "source": [
    "# Compile the Sequential model together and customize metrics\n",
    "new_model.compile(loss=\"binary_crossentropy\", optimizer=\"adam\", metrics=[\"accuracy\"])\n",
    "\n",
    "# Fit the model to the training data\n",
    "new_fit_model = new_model.fit(X_moon_train_scaled, y_moon_train, epochs=100, shuffle=True)"
   ]
  },
  {
   "cell_type": "code",
   "execution_count": 52,
   "id": "3b0c1200",
   "metadata": {},
   "outputs": [
    {
     "data": {
      "text/plain": [
       "<AxesSubplot:>"
      ]
     },
     "execution_count": 52,
     "metadata": {},
     "output_type": "execute_result"
    },
    {
     "data": {
      "image/png": "[encoded data removed]",
      "text/plain": [
       "<Figure size 432x288 with 1 Axes>"
      ]
     },
     "metadata": {
      "needs_background": "light"
     },
     "output_type": "display_data"
    }
   ],
   "source": [
    "df_moons.boxplot()"
   ]
  },
  {
   "cell_type": "code",
   "execution_count": null,
   "id": "a6324bb1",
   "metadata": {},
   "outputs": [],
   "source": []
  },
  {
   "cell_type": "code",
   "execution_count": 64,
   "id": "074c4cf7",
   "metadata": {},
   "outputs": [],
   "source": [
    "df_moons_new = df_moons.loc[(df_moons[\"Feature 1\"] < 1.5) & (df_moons[\"Feature 1\"] > 0.5)]"
   ]
  },
  {
   "cell_type": "code",
   "execution_count": 68,
   "id": "1385696a",
   "metadata": {},
   "outputs": [
    {
     "data": {
      "text/plain": [
       "<AxesSubplot:xlabel='Feature 1', ylabel='Feature 2'>"
      ]
     },
     "execution_count": 68,
     "metadata": {},
     "output_type": "execute_result"
    },
    {
     "data": {
      "image/png": "[encoded data removed]",
      "text/plain": [
       "<Figure size 432x288 with 2 Axes>"
      ]
     },
     "metadata": {
      "needs_background": "light"
     },
     "output_type": "display_data"
    }
   ],
   "source": [
    "# Create Scatterplot of new data\n",
    "df_moons_new.plot.scatter(x=\"Feature 1\",y=\"Feature 2\", c=\"Target\",colormap=\"winter\")"
   ]
  },
  {
   "cell_type": "code",
   "execution_count": 73,
   "id": "094243ff",
   "metadata": {},
   "outputs": [
    {
     "ename": "ValueError",
     "evalue": "Found input variables with inconsistent numbers of samples: [1000, 331]",
     "output_type": "error",
     "traceback": [
      "\u001b[0;31m---------------------------------------------------------------------------\u001b[0m",
      "\u001b[0;31mValueError\u001b[0m                                Traceback (most recent call last)",
      "\u001b[0;32m<ipython-input-73-95cfbb5158a6>\u001b[0m in \u001b[0;36m<module>\u001b[0;34m\u001b[0m\n\u001b[1;32m      4\u001b[0m \u001b[0;31m# Create training and testing sets\u001b[0m\u001b[0;34m\u001b[0m\u001b[0;34m\u001b[0m\u001b[0;34m\u001b[0m\u001b[0m\n\u001b[1;32m      5\u001b[0m X_moon_train1, X_moon_test1, y_moon_train1, y_moon_test1 = train_test_split(\n\u001b[0;32m----> 6\u001b[0;31m     \u001b[0mX_moons\u001b[0m\u001b[0;34m,\u001b[0m \u001b[0my_moons\u001b[0m\u001b[0;34m,\u001b[0m \u001b[0mrandom_state\u001b[0m\u001b[0;34m=\u001b[0m\u001b[0;36m78\u001b[0m\u001b[0;34m\u001b[0m\u001b[0;34m\u001b[0m\u001b[0m\n\u001b[0m\u001b[1;32m      7\u001b[0m )\n",
      "\u001b[0;32m~/opt/anaconda3/envs/mlenv/lib/python3.7/site-packages/sklearn/model_selection/_split.py\u001b[0m in \u001b[0;36mtrain_test_split\u001b[0;34m(test_size, train_size, random_state, shuffle, stratify, *arrays)\u001b[0m\n\u001b[1;32m   2170\u001b[0m         \u001b[0;32mraise\u001b[0m \u001b[0mValueError\u001b[0m\u001b[0;34m(\u001b[0m\u001b[0;34m\"At least one array required as input\"\u001b[0m\u001b[0;34m)\u001b[0m\u001b[0;34m\u001b[0m\u001b[0;34m\u001b[0m\u001b[0m\n\u001b[1;32m   2171\u001b[0m \u001b[0;34m\u001b[0m\u001b[0m\n\u001b[0;32m-> 2172\u001b[0;31m     \u001b[0marrays\u001b[0m \u001b[0;34m=\u001b[0m \u001b[0mindexable\u001b[0m\u001b[0;34m(\u001b[0m\u001b[0;34m*\u001b[0m\u001b[0marrays\u001b[0m\u001b[0;34m)\u001b[0m\u001b[0;34m\u001b[0m\u001b[0;34m\u001b[0m\u001b[0m\n\u001b[0m\u001b[1;32m   2173\u001b[0m \u001b[0;34m\u001b[0m\u001b[0m\n\u001b[1;32m   2174\u001b[0m     \u001b[0mn_samples\u001b[0m \u001b[0;34m=\u001b[0m \u001b[0m_num_samples\u001b[0m\u001b[0;34m(\u001b[0m\u001b[0marrays\u001b[0m\u001b[0;34m[\u001b[0m\u001b[0;36m0\u001b[0m\u001b[0;34m]\u001b[0m\u001b[0;34m)\u001b[0m\u001b[0;34m\u001b[0m\u001b[0;34m\u001b[0m\u001b[0m\n",
      "\u001b[0;32m~/opt/anaconda3/envs/mlenv/lib/python3.7/site-packages/sklearn/utils/validation.py\u001b[0m in \u001b[0;36mindexable\u001b[0;34m(*iterables)\u001b[0m\n\u001b[1;32m    297\u001b[0m     \"\"\"\n\u001b[1;32m    298\u001b[0m     \u001b[0mresult\u001b[0m \u001b[0;34m=\u001b[0m \u001b[0;34m[\u001b[0m\u001b[0m_make_indexable\u001b[0m\u001b[0;34m(\u001b[0m\u001b[0mX\u001b[0m\u001b[0;34m)\u001b[0m \u001b[0;32mfor\u001b[0m \u001b[0mX\u001b[0m \u001b[0;32min\u001b[0m \u001b[0miterables\u001b[0m\u001b[0;34m]\u001b[0m\u001b[0;34m\u001b[0m\u001b[0;34m\u001b[0m\u001b[0m\n\u001b[0;32m--> 299\u001b[0;31m     \u001b[0mcheck_consistent_length\u001b[0m\u001b[0;34m(\u001b[0m\u001b[0;34m*\u001b[0m\u001b[0mresult\u001b[0m\u001b[0;34m)\u001b[0m\u001b[0;34m\u001b[0m\u001b[0;34m\u001b[0m\u001b[0m\n\u001b[0m\u001b[1;32m    300\u001b[0m     \u001b[0;32mreturn\u001b[0m \u001b[0mresult\u001b[0m\u001b[0;34m\u001b[0m\u001b[0;34m\u001b[0m\u001b[0m\n\u001b[1;32m    301\u001b[0m \u001b[0;34m\u001b[0m\u001b[0m\n",
      "\u001b[0;32m~/opt/anaconda3/envs/mlenv/lib/python3.7/site-packages/sklearn/utils/validation.py\u001b[0m in \u001b[0;36mcheck_consistent_length\u001b[0;34m(*arrays)\u001b[0m\n\u001b[1;32m    261\u001b[0m     \u001b[0;32mif\u001b[0m \u001b[0mlen\u001b[0m\u001b[0;34m(\u001b[0m\u001b[0muniques\u001b[0m\u001b[0;34m)\u001b[0m \u001b[0;34m>\u001b[0m \u001b[0;36m1\u001b[0m\u001b[0;34m:\u001b[0m\u001b[0;34m\u001b[0m\u001b[0;34m\u001b[0m\u001b[0m\n\u001b[1;32m    262\u001b[0m         raise ValueError(\"Found input variables with inconsistent numbers of\"\n\u001b[0;32m--> 263\u001b[0;31m                          \" samples: %r\" % [int(l) for l in lengths])\n\u001b[0m\u001b[1;32m    264\u001b[0m \u001b[0;34m\u001b[0m\u001b[0m\n\u001b[1;32m    265\u001b[0m \u001b[0;34m\u001b[0m\u001b[0m\n",
      "\u001b[0;31mValueError\u001b[0m: Found input variables with inconsistent numbers of samples: [1000, 331]"
     ]
    }
   ],
   "source": [
    "x_moons = df_moons_new[\"Feature 1\"]\n",
    "y_moons = df_moons_new[\"Feature 2\"]\n",
    "\n",
    "# Create training and testing sets\n",
    "X_moon_train1, X_moon_test1, y_moon_train1, y_moon_test1 = train_test_split(\n",
    "    X_moons, y_moons, random_state=78\n",
    ")"
   ]
  },
  {
   "cell_type": "code",
   "execution_count": null,
   "id": "2901415a",
   "metadata": {},
   "outputs": [],
   "source": []
  },
  {
   "cell_type": "code",
   "execution_count": 66,
   "id": "71c41e7e",
   "metadata": {},
   "outputs": [],
   "source": [
    "# Generate our new Sequential model\n",
    "newest_model = tf.keras.models.Sequential()"
   ]
  },
  {
   "cell_type": "code",
   "execution_count": 67,
   "id": "73e5ed94",
   "metadata": {},
   "outputs": [],
   "source": [
    "newest_model.add(tf.keras.layers.Dense(units=number_hidden_nodes, activation=\"relu\", input_dim=number_inputs))\n",
    "\n",
    "# Add the output layer that uses a probability activation function\n",
    "newest_model.add(tf.keras.layers.Dense(units=1, activation=\"sigmoid\"))"
   ]
  },
  {
   "cell_type": "code",
   "execution_count": null,
   "id": "f2cfe5ae",
   "metadata": {},
   "outputs": [],
   "source": [
    "# Compile the Sequential model together and customize metrics\n",
    "newest_model.compile(loss=\"binary_crossentropy\", optimizer=\"adam\", metrics=[\"accuracy\"])\n",
    "\n",
    "# Fit the model to the training data\n",
    "newest_fit_model = newest_model.fit(X_moon_train1, y_moon_train1, epochs=100, shuffle=True)"
   ]
  }
 ],
 "metadata": {
  "kernelspec": {
   "display_name": "mlenv",
   "language": "python",
   "name": "mlenv"
  },
  "language_info": {
   "codemirror_mode": {
    "name": "ipython",
    "version": 3
   },
   "file_extension": ".py",
   "mimetype": "text/x-python",
   "name": "python",
   "nbconvert_exporter": "python",
   "pygments_lexer": "ipython3",
   "version": "3.7.10"
  }
 },
 "nbformat": 4,
 "nbformat_minor": 5
}
